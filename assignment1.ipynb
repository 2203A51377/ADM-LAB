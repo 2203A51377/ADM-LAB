{
  "cells": [
    {
      "cell_type": "markdown",
      "metadata": {
        "id": "view-in-github",
        "colab_type": "text"
      },
      "source": [
        "<a href=\"https://colab.research.google.com/github/2203A51377/ADM-LAB/blob/main/assignment1.ipynb\" target=\"_parent\"><img src=\"https://colab.research.google.com/assets/colab-badge.svg\" alt=\"Open In Colab\"/></a>"
      ]
    },
    {
      "cell_type": "code",
      "source": [
        "import pandas as pd\n",
        "import numpy as np\n",
        "from sklearn.preprocessing import MinMaxScaler, StandardScaler"
      ],
      "metadata": {
        "id": "Qtqc5y3IYIQX"
      },
      "execution_count": 5,
      "outputs": []
    },
    {
      "source": [
        "# Ensure pandas is imported in the current cell\n",
        "import pandas as pd\n",
        "\n",
        "# Load dataset\n",
        "df = pd.read_csv(\"/content/employee_data.csv\")  # Replace with your actual dataset file\n",
        "print(\"Original Dataset:\")\n",
        "print(df.head())"
      ],
      "cell_type": "code",
      "metadata": {
        "id": "28ICAN6-Zdd7",
        "outputId": "37a3f894-e07b-4b29-dbdb-def436ef1c4e",
        "colab": {
          "base_uri": "https://localhost:8080/"
        }
      },
      "execution_count": 6,
      "outputs": [
        {
          "output_type": "stream",
          "name": "stdout",
          "text": [
            "Original Dataset:\n",
            "   Employee_ID   Age    Salary  Job_Satisfaction  Work_Hours_Per_Week\n",
            "0         1001  50.0  108953.0               9.0                   36\n",
            "1         1002  36.0   82995.0               8.0                   59\n",
            "2         1003  29.0   70757.0               2.0                   30\n",
            "3         1004  42.0   39692.0               1.0                   30\n",
            "4         1005  40.0   75758.0               7.0                   54\n"
          ]
        }
      ]
    },
    {
      "cell_type": "code",
      "source": [
        "\n",
        "# Handling missing values\n",
        "df['Age'].fillna(df['Age'].mean(), inplace=True)\n",
        "df['Salary'].fillna(df['Salary'].median(), inplace=True)\n",
        "df['Job_Satisfaction'].fillna(df['Job_Satisfaction'].mode()[0], inplace=True)\n",
        "df['Work_Hours_Per_Week'].fillna(df['Work_Hours_Per_Week'].mean(), inplace=True)\n"
      ],
      "metadata": {
        "id": "n10_kwb3ZlEI",
        "outputId": "d40cf150-c9dd-4db8-b132-bea120a37ae0",
        "colab": {
          "base_uri": "https://localhost:8080/"
        }
      },
      "execution_count": 7,
      "outputs": [
        {
          "output_type": "stream",
          "name": "stderr",
          "text": [
            "<ipython-input-7-d613ea080a0f>:2: FutureWarning: A value is trying to be set on a copy of a DataFrame or Series through chained assignment using an inplace method.\n",
            "The behavior will change in pandas 3.0. This inplace method will never work because the intermediate object on which we are setting values always behaves as a copy.\n",
            "\n",
            "For example, when doing 'df[col].method(value, inplace=True)', try using 'df.method({col: value}, inplace=True)' or df[col] = df[col].method(value) instead, to perform the operation inplace on the original object.\n",
            "\n",
            "\n",
            "  df['Age'].fillna(df['Age'].mean(), inplace=True)\n",
            "<ipython-input-7-d613ea080a0f>:3: FutureWarning: A value is trying to be set on a copy of a DataFrame or Series through chained assignment using an inplace method.\n",
            "The behavior will change in pandas 3.0. This inplace method will never work because the intermediate object on which we are setting values always behaves as a copy.\n",
            "\n",
            "For example, when doing 'df[col].method(value, inplace=True)', try using 'df.method({col: value}, inplace=True)' or df[col] = df[col].method(value) instead, to perform the operation inplace on the original object.\n",
            "\n",
            "\n",
            "  df['Salary'].fillna(df['Salary'].median(), inplace=True)\n",
            "<ipython-input-7-d613ea080a0f>:4: FutureWarning: A value is trying to be set on a copy of a DataFrame or Series through chained assignment using an inplace method.\n",
            "The behavior will change in pandas 3.0. This inplace method will never work because the intermediate object on which we are setting values always behaves as a copy.\n",
            "\n",
            "For example, when doing 'df[col].method(value, inplace=True)', try using 'df.method({col: value}, inplace=True)' or df[col] = df[col].method(value) instead, to perform the operation inplace on the original object.\n",
            "\n",
            "\n",
            "  df['Job_Satisfaction'].fillna(df['Job_Satisfaction'].mode()[0], inplace=True)\n",
            "<ipython-input-7-d613ea080a0f>:5: FutureWarning: A value is trying to be set on a copy of a DataFrame or Series through chained assignment using an inplace method.\n",
            "The behavior will change in pandas 3.0. This inplace method will never work because the intermediate object on which we are setting values always behaves as a copy.\n",
            "\n",
            "For example, when doing 'df[col].method(value, inplace=True)', try using 'df.method({col: value}, inplace=True)' or df[col] = df[col].method(value) instead, to perform the operation inplace on the original object.\n",
            "\n",
            "\n",
            "  df['Work_Hours_Per_Week'].fillna(df['Work_Hours_Per_Week'].mean(), inplace=True)\n"
          ]
        }
      ]
    },
    {
      "cell_type": "code",
      "source": [
        "\n",
        "# Min-Max Scaling\n",
        "scaler = MinMaxScaler()\n",
        "df[['Age_Scaled', 'Salary_Scaled']] = scaler.fit_transform(df[['Age', 'Salary']])\n",
        "\n"
      ],
      "metadata": {
        "id": "CFRDE4OaZuGZ"
      },
      "execution_count": 8,
      "outputs": []
    },
    {
      "cell_type": "code",
      "source": [
        "\n",
        "\n",
        "# Standardization (Z-score normalization)\n",
        "std_scaler = StandardScaler()\n",
        "df[['Job_Satisfaction_Std', 'Work_Hours_Std']] = std_scaler.fit_transform(df[['Job_Satisfaction', 'Work_Hours_Per_Week']])\n",
        "\n"
      ],
      "metadata": {
        "id": "3pYBckjmZ0fr"
      },
      "execution_count": 9,
      "outputs": []
    },
    {
      "cell_type": "code",
      "source": [
        "\n",
        "# Manual Standardization\n",
        "def z_score_normalization(column):\n",
        "    return (column - column.mean()) / column.std()\n",
        "df['Job_Satisfaction_Std_Manual'] = z_score_normalization(df['Job_Satisfaction'])\n",
        "df['Work_Hours_Std_Manual'] = z_score_normalization(df['Work_Hours_Per_Week'])\n"
      ],
      "metadata": {
        "id": "PyHf1Sn3aDIg"
      },
      "execution_count": 10,
      "outputs": []
    },
    {
      "cell_type": "code",
      "source": [
        "\n",
        "# Display dataset after preprocessing\n",
        "print(\"\\nPreprocessed Dataset:\")\n",
        "print(df.head())"
      ],
      "metadata": {
        "id": "5JLb8Z15aHOr",
        "outputId": "49cc099d-e23c-4d2a-e674-581446cb800c",
        "colab": {
          "base_uri": "https://localhost:8080/"
        }
      },
      "execution_count": 11,
      "outputs": [
        {
          "output_type": "stream",
          "name": "stdout",
          "text": [
            "\n",
            "Preprocessed Dataset:\n",
            "   Employee_ID   Age    Salary  Job_Satisfaction  Work_Hours_Per_Week  \\\n",
            "0         1001  50.0  108953.0               9.0                   36   \n",
            "1         1002  36.0   82995.0               8.0                   59   \n",
            "2         1003  29.0   70757.0               2.0                   30   \n",
            "3         1004  42.0   39692.0               1.0                   30   \n",
            "4         1005  40.0   75758.0               7.0                   54   \n",
            "\n",
            "   Age_Scaled  Salary_Scaled  Job_Satisfaction_Std  Work_Hours_Std  \\\n",
            "0    0.750000       0.877708              1.275854       -0.905969   \n",
            "1    0.361111       0.585375              0.872103        1.483629   \n",
            "2    0.166667       0.447554             -1.550405       -1.529343   \n",
            "3    0.527778       0.097707             -1.954156       -1.529343   \n",
            "4    0.472222       0.503874              0.468352        0.964151   \n",
            "\n",
            "   Job_Satisfaction_Std_Manual  Work_Hours_Std_Manual  \n",
            "0                     1.263031              -0.896864  \n",
            "1                     0.863338               1.468717  \n",
            "2                    -1.534823              -1.513972  \n",
            "3                    -1.934516              -1.513972  \n",
            "4                     0.463644               0.954461  \n"
          ]
        }
      ]
    }
  ],
  "metadata": {
    "colab": {
      "name": "Welcome to Colaboratory",
      "toc_visible": true,
      "provenance": [],
      "include_colab_link": true
    },
    "kernelspec": {
      "display_name": "Python 3",
      "name": "python3"
    }
  },
  "nbformat": 4,
  "nbformat_minor": 0
}